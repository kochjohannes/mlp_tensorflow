{
 "cells": [
  {
   "cell_type": "code",
   "execution_count": 1,
   "metadata": {},
   "outputs": [
    {
     "name": "stderr",
     "output_type": "stream",
     "text": [
      "/Users/johanneskoch/anaconda3/lib/python3.6/site-packages/h5py/__init__.py:34: FutureWarning: Conversion of the second argument of issubdtype from `float` to `np.floating` is deprecated. In future, it will be treated as `np.float64 == np.dtype(float).type`.\n",
      "  from ._conv import register_converters as _register_converters\n"
     ]
    }
   ],
   "source": [
    "import tensorflow as tf\n",
    "import numpy as np\n",
    "import matplotlib.pyplot as plt"
   ]
  },
  {
   "cell_type": "code",
   "execution_count": 2,
   "metadata": {},
   "outputs": [
    {
     "name": "stdout",
     "output_type": "stream",
     "text": [
      "(150, 2)\n",
      "(150, 3)\n"
     ]
    },
    {
     "data": {
      "image/png": "[encoded data removed]",
      "text/plain": [
       "<matplotlib.figure.Figure at 0x181cfb0390>"
      ]
     },
     "metadata": {},
     "output_type": "display_data"
    }
   ],
   "source": [
    "# Generate data\n",
    "\n",
    "phi_tmp = np.linspace(0, 2.5*np.pi, 50)\n",
    "x_tmp = np.linspace(0.5, 1, 50)\n",
    "c0 = np.array([[np.multiply(x_tmp, np.cos(phi_tmp))], [np.multiply(x_tmp, np.sin(phi_tmp))]])\n",
    "c1 = np.array([[0.8*np.multiply(x_tmp, np.cos(phi_tmp))], [0.8*np.multiply(x_tmp, np.sin(phi_tmp))]])\n",
    "c2 = np.array([[1.2*np.multiply(x_tmp, np.cos(phi_tmp))], [1.2*np.multiply(x_tmp, np.sin(phi_tmp))]])\n",
    "c = np.concatenate([c0, c1, c2], axis=2)\n",
    "c = c.reshape([2, 150])\n",
    "c += 0.02*np.random.randn(2,150) #add noise\n",
    "X_data = c.transpose()\n",
    "Y_data = np.zeros([150, 3])\n",
    "\n",
    "#One-hot encoding\n",
    "Y_data[0:50,0] = 1\n",
    "Y_data[50:100,1] = 1\n",
    "Y_data[100:150,2] = 1\n",
    "\n",
    "print(X_data.shape)\n",
    "print(Y_data.shape)\n",
    "plt.plot(X_data[0:50,0], X_data[0:50,1], color='r', marker='.', linestyle='None')\n",
    "plt.plot(X_data[50:100,0], X_data[50:100,1], color='deepskyblue', marker='.', linestyle='None')\n",
    "plt.plot(X_data[100:150,0], X_data[100:150,1], color='lime', marker='.', linestyle='None')\n",
    "plt.show()"
   ]
  },
  {
   "cell_type": "code",
   "execution_count": 7,
   "metadata": {},
   "outputs": [
    {
     "name": "stdout",
     "output_type": "stream",
     "text": [
      "adding tanh layer\n",
      "adding tanh layer\n",
      "adding tanh layer\n"
     ]
    }
   ],
   "source": [
    "learning_rate = 0.01\n",
    "training_epochs = 5000\n",
    "batch_size = 100\n",
    "scale = 0.01 #regularizing coefficient\n",
    "plot_decision_boundary = False\n",
    "\n",
    "input_dimensions = 2\n",
    "hidden_units = [10, 10, 10]\n",
    "output_dimensions = 3 #need to change to softmax for it to work on more than 1 dimensional output\n",
    "interlayer_activations = \"tanh\"\n",
    "if(output_dimensions == 1):\n",
    "    output_activation = \"sigmoid\"\n",
    "else:\n",
    "    output_activation = \"softmax\"\n",
    "\n",
    "X = tf.placeholder(\"float\", [None, input_dimensions])\n",
    "Y = tf.placeholder(\"float\", [None, output_dimensions])\n",
    "\n",
    "#Create weigth and bias dictionaries\n",
    "weights = {'h1': tf.Variable(tf.random_uniform(\n",
    "    [input_dimensions, hidden_units[0]],\n",
    "    minval=-6.0/np.sqrt(input_dimensions+hidden_units[0]), \n",
    "    maxval=6.0/np.sqrt(input_dimensions+hidden_units[0])))}\n",
    "for i in range(1,len(hidden_units)):\n",
    "    weights['h'+str(i+1)] = tf.Variable(tf.random_uniform(\n",
    "        [hidden_units[i-1], hidden_units[i]],\n",
    "        minval=-6.0/np.sqrt(hidden_units[i-1]+hidden_units[i]),\n",
    "        maxval=6.0/np.sqrt(hidden_units[i-1]+hidden_units[i])))\n",
    "weights['h_out'] = tf.Variable(tf.random_uniform(\n",
    "    [hidden_units[-1], output_dimensions],\n",
    "    minval=-6.0/np.sqrt(hidden_units[1]+output_dimensions),\n",
    "    maxval=6.0/np.sqrt(hidden_units[1]+output_dimensions)))\n",
    "\n",
    "biases = {'b1': tf.Variable(tf.zeros([hidden_units[0]]))}\n",
    "for i in range(1,len(hidden_units)):\n",
    "    biases['b'+str(i+1)] = tf.Variable(tf.zeros([hidden_units[i]]))\n",
    "biases['b_out'] = tf.Variable(tf.zeros([output_dimensions]))\n",
    "\n",
    "\n",
    "\n",
    "def multilayer_perceptron(X):\n",
    "    #Input to layer (X or output from previous layer, is multiplied with the\n",
    "    #weight matrix, and then the bias is added, finally the output of the layer\n",
    "    #is the activation function of XW+b, here the sigmoid)\n",
    "    layers = []\n",
    "    output_prev_layer = X\n",
    "    for i in range(len(hidden_units)):\n",
    "        #if(i==len(hidden_units)-1 and interlayer_activations==\"softmax\"):\n",
    "        #    print('adding softmax layer')\n",
    "        #    layers.append(tf.nn.sigmoid(tf.add(tf.matmul(output_prev_layer, weights['h'+str(i+1)]), biases['b'+str(i+1)])))\n",
    "        if(interlayer_activations==\"tanh\"):\n",
    "            print('adding tanh layer')\n",
    "            tf.contrib.layers.l2_regularizer(scale)\n",
    "            #tf.contrib.layers.l2_regularizer(0.1)\n",
    "            layers.append(tf.nn.relu(tf.add(tf.matmul(output_prev_layer, weights['h'+str(i+1)]), biases['b'+str(i+1)])))\n",
    "        #output_prev_layer = layers[-1]\n",
    "        if(interlayer_activations==\"sigmoid\"):\n",
    "            print('adding sigmoid layer')\n",
    "            layers.append(tf.sigmoid(tf.add(tf.matmul(output_prev_layer, weights['h'+str(i+1)]), biases['b'+str(i+1)])))\n",
    "        output_prev_layer = layers[-1]\n",
    "    #Note that I didn't include the sigmoid in the output layer, I will\n",
    "    #add this later in the code\n",
    "    out_layer = tf.add(tf.matmul(layers[-1], weights['h_out']), biases['b_out'])\n",
    "    return out_layer\n",
    "    \n",
    "logits = multilayer_perceptron(X)\n",
    "\n",
    "#regularizer = tf.nn.l2_loss(weights)\n",
    "\n",
    "\n",
    "if(output_activation==\"sigmoid\"):\n",
    "    loss_op = tf.reduce_mean(tf.nn.sigmoid_cross_entropy_with_logits(logits=logits, labels=Y))\n",
    "if(output_activation==\"softmax\"):\n",
    "    loss_op = tf.reduce_mean(tf.nn.softmax_cross_entropy_with_logits(logits=logits, labels=Y))\n",
    "optimizer = tf.train.AdamOptimizer(learning_rate=learning_rate) #make changeable\n",
    "train_op = optimizer.minimize(loss_op)\n",
    "\n",
    "#Initializing the variables\n",
    "init = tf.global_variables_initializer()\n"
   ]
  },
  {
   "cell_type": "code",
   "execution_count": 8,
   "metadata": {},
   "outputs": [
    {
     "name": "stdout",
     "output_type": "stream",
     "text": [
      "Training  0 % done \tEpoch:  0 \tCost:  3.3075156211853027\n",
      "Training  10 % done \tEpoch:  500 \tCost:  0.25061166286468506\n",
      "Training  20 % done \tEpoch:  1000 \tCost:  0.04628917574882507\n",
      "Training  30 % done \tEpoch:  1500 \tCost:  0.006813511718064547\n",
      "Training  40 % done \tEpoch:  2000 \tCost:  0.0022557161282747984\n",
      "Training  50 % done \tEpoch:  2500 \tCost:  0.001214668620377779\n",
      "Training  60 % done \tEpoch:  3000 \tCost:  0.0006377422832883894\n",
      "Training  70 % done \tEpoch:  3500 \tCost:  0.0003727566509041935\n",
      "Training  80 % done \tEpoch:  4000 \tCost:  0.00039056927198544145\n",
      "Training  90 % done \tEpoch:  4500 \tCost:  0.00024009546905290335\n",
      "Training 100 % done \tEpoch:  4999 \tCost:  0.0001634011568967253\n"
     ]
    }
   ],
   "source": [
    "X_shuf = X_data.copy()\n",
    "Y_shuf = Y_data.copy()\n",
    "\n",
    "sess = tf.Session()\n",
    "sess.run(init)\n",
    "for epoch in range(training_epochs):\n",
    "    random_state = np.random.get_state() #Get the random state to make sure \n",
    "                                         #shuffle is done the same for X and Y\n",
    "    np.random.set_state(random_state)\n",
    "    np.random.shuffle(X_shuf)\n",
    "    np.random.set_state(random_state)\n",
    "    np.random.shuffle(Y_shuf)\n",
    "    n_minibatches = int(X_data.shape[0]/batch_size) #skip the last part of data if it \n",
    "                                                    #doesn't fill up an entire mini-batch\n",
    "    \n",
    "    avg_loss = 0.\n",
    "    for minibatch in range(n_minibatches):\n",
    "        _,loss = sess.run([train_op, loss_op], feed_dict={\n",
    "                                                X: X_shuf[minibatch*batch_size:(minibatch+1)*batch_size],\n",
    "                                                Y: Y_shuf[minibatch*batch_size:(minibatch+1)*batch_size]})\n",
    "        avg_loss += loss/n_minibatches\n",
    "    if(epoch%(0.1*training_epochs) == 0):\n",
    "        print(\"Training \", str(int(100*epoch/training_epochs)), \n",
    "              \"% done\", \"\\tEpoch: \", epoch, \"\\tCost: \", avg_loss)\n",
    "print(\"Training 100 % done \\tEpoch: \", epoch, \"\\tCost: \", avg_loss)"
   ]
  },
  {
   "cell_type": "code",
   "execution_count": 9,
   "metadata": {},
   "outputs": [
    {
     "data": {
      "image/png": "[encoded data removed]",
      "text/plain": [
       "<matplotlib.figure.Figure at 0x1a1ff97f60>"
      ]
     },
     "metadata": {},
     "output_type": "display_data"
    }
   ],
   "source": [
    "#Plot the result\n",
    "\n",
    "if(plot_decision_boundary):\n",
    "    pred = tf.nn.sigmoid(logits)\n",
    "    correct_prediction = tf.equal(tf.argmax(Y_data,1), tf.argmax(pred,1))\n",
    "    accuracy = tf.reduce_mean(tf.cast(correct_prediction, \"float\"))\n",
    "    print(\"Accuracy: \", sess.run(accuracy, feed_dict={X: X_data, Y:Y_data}))\n",
    "    prediction = tf.argmax(pred, 1)\n",
    "    boundary_x = []\n",
    "    boundary_y = []\n",
    "    boundary_95_x = []\n",
    "    boundary_95_y = []\n",
    "    boundary_05_x = []\n",
    "    boundary_05_y = []\n",
    "    allowed_diff = 0.01\n",
    "    for x_grid in np.linspace(-1, 1, 100):\n",
    "        for y_grid in np.linspace(-1,1,100):\n",
    "            prob = pred.eval(feed_dict={\n",
    "                X: np.reshape(np.array([x_grid, y_grid]), [1,2])},\n",
    "                             session=sess)\n",
    "            if(prob>=0.5-allowed_diff and prob<=0.5+allowed_diff):\n",
    "                boundary_x.append(x_grid)\n",
    "                boundary_y.append(y_grid)\n",
    "            if(prob>=0.95-allowed_diff and prob<=0.95+allowed_diff):\n",
    "                boundary_95_x.append(x_grid)\n",
    "                boundary_95_y.append(y_grid)\n",
    "            if(prob>=0.05-allowed_diff and prob<=0.05+allowed_diff):\n",
    "                boundary_05_x.append(x_grid)\n",
    "                boundary_05_y.append(y_grid)\n",
    "\n",
    "\n",
    "    index = Y_shuf == 1\n",
    "\n",
    "    plt.plot(X_shuf[index[:,0],0], X_shuf[index[:,0],1], 'ro')\n",
    "    index = Y_shuf == 0\n",
    "    plt.plot(X_shuf[index[:,0],0], X_shuf[index[:,0],1], 'bx')\n",
    "    plt.plot(boundary_x, boundary_y, 'c.')\n",
    "    plt.plot(boundary_95_x, boundary_95_y, 'k.')\n",
    "    plt.plot(boundary_05_x, boundary_05_y, 'k.')\n",
    "    plt.show()\n",
    "\n",
    "else:\n",
    "    if(output_activation==\"sigmoid\"):\n",
    "        pred = tf.nn.sigmoid(logits)\n",
    "    if(output_activation==\"softmax\"):\n",
    "        pred = tf.nn.softmax(logits)\n",
    "    correct_prediction = tf.equal(tf.argmax(Y_data,1), tf.argmax(pred,1))\n",
    "    accuracy = tf.reduce_mean(tf.cast(correct_prediction, \"float\"))\n",
    "\n",
    "\n",
    "    boundary_x_0 = []\n",
    "    boundary_y_0 = []\n",
    "    boundary_x_1 = []\n",
    "    boundary_y_1 = []\n",
    "    boundary_x_2 = []\n",
    "    boundary_y_2 = []\n",
    "\n",
    "    #allowed_diff = 0.01\n",
    "    for x_grid in np.linspace(-1.3, 1.3, 100):\n",
    "        for y_grid in np.linspace(-1.3,1.3,100):\n",
    "            prob = pred.eval(feed_dict={\n",
    "                X: np.reshape(np.array([x_grid, y_grid]), [1,2])},\n",
    "                             session=sess)\n",
    "            pred_class = np.argmax(prob)\n",
    "            if(pred_class == 0):\n",
    "                boundary_x_0.append(x_grid)\n",
    "                boundary_y_0.append(y_grid)\n",
    "                #plt.plot(x_grid, y_grid, 'ro')\n",
    "            if(pred_class == 1):\n",
    "                boundary_x_1.append(x_grid)\n",
    "                boundary_y_1.append(y_grid)\n",
    "                #plt.plot(x_grid, y_grid, 'bo')\n",
    "            if(pred_class == 2):\n",
    "                boundary_x_2.append(x_grid)\n",
    "                boundary_y_2.append(y_grid)\n",
    "                #plt.plot(x_grid, y_grid, 'go')\n",
    "\n",
    "\n",
    "    plt.scatter(boundary_x_0, boundary_y_0, color='darkred')#, marker=',')#, markersize=5)\n",
    "    plt.scatter(boundary_x_1, boundary_y_1, color='darkblue')#, marker=',')#, markersize=5)\n",
    "    plt.scatter(boundary_x_2, boundary_y_2, color='darkgreen')#, marker=',')#, markersize=5)\n",
    "    plt.plot(X_data[0:50,0], X_data[0:50,1], color='r', marker='.', linestyle='None')\n",
    "    plt.plot(X_data[50:100,0], X_data[50:100,1], color='deepskyblue', marker='.', linestyle='None')\n",
    "    plt.plot(X_data[100:150,0], X_data[100:150,1], color='lime', marker='.', linestyle='None')\n",
    "\n",
    "    plt.show()"
   ]
  }
 ],
 "metadata": {
  "kernelspec": {
   "display_name": "Python 3",
   "language": "python",
   "name": "python3"
  },
  "language_info": {
   "codemirror_mode": {
    "name": "ipython",
    "version": 3
   },
   "file_extension": ".py",
   "mimetype": "text/x-python",
   "name": "python",
   "nbconvert_exporter": "python",
   "pygments_lexer": "ipython3",
   "version": "3.6.3"
  }
 },
 "nbformat": 4,
 "nbformat_minor": 2
}
